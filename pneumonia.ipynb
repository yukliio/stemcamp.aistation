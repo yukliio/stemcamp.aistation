{
  "nbformat": 4,
  "nbformat_minor": 0,
  "metadata": {
    "colab": {
      "provenance": [],
      "authorship_tag": "ABX9TyMy2e8DSNqCVKVQqqlDvyYh",
      "include_colab_link": true
    },
    "kernelspec": {
      "name": "python3",
      "display_name": "Python 3"
    },
    "language_info": {
      "name": "python"
    }
  },
  "cells": [
    {
      "cell_type": "markdown",
      "metadata": {
        "id": "view-in-github",
        "colab_type": "text"
      },
      "source": [
        "<a href=\"https://colab.research.google.com/github/yukliio/stemcamp.aistation/blob/main/pneumonia.ipynb\" target=\"_parent\"><img src=\"https://colab.research.google.com/assets/colab-badge.svg\" alt=\"Open In Colab\"/></a>"
      ]
    },
    {
      "cell_type": "code",
      "execution_count": null,
      "metadata": {
        "id": "ydR1x5zK-O-y"
      },
      "outputs": [],
      "source": []
    },
    {
      "cell_type": "markdown",
      "source": [
        "# Problem statement"
      ],
      "metadata": {
        "id": "KKuHsToi_Dwf"
      }
    },
    {
      "cell_type": "markdown",
      "source": [
        "# Step 1: importing the base libraries"
      ],
      "metadata": {
        "id": "d401bgYU_Hjo"
      }
    },
    {
      "cell_type": "markdown",
      "source": [
        "sdkjksjdkjdkjdksjd"
      ],
      "metadata": {
        "id": "ubJBcFzL_ZR4"
      }
    }
  ]
}